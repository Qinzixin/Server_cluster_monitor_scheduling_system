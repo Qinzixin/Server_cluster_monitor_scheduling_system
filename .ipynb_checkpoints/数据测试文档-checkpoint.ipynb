{
 "cells": [
  {
   "cell_type": "code",
   "execution_count": 22,
   "id": "abeaa815-00ba-4d2e-a472-4f45a9ee1c08",
   "metadata": {},
   "outputs": [],
   "source": [
    "from datetime import datetime\n",
    "from datetime import timedelta"
   ]
  },
  {
   "cell_type": "code",
   "execution_count": 2,
   "id": "8fcd277b-064e-41e1-93c7-95649406f9ab",
   "metadata": {},
   "outputs": [],
   "source": [
    "date = datetime.now()"
   ]
  },
  {
   "cell_type": "code",
   "execution_count": 3,
   "id": "4a234e09-3a64-40e1-99b5-866fd9163a7e",
   "metadata": {},
   "outputs": [
    {
     "data": {
      "text/plain": [
       "datetime.datetime(2022, 6, 21, 22, 18, 22, 862272)"
      ]
     },
     "execution_count": 3,
     "metadata": {},
     "output_type": "execute_result"
    }
   ],
   "source": [
    "date"
   ]
  },
  {
   "cell_type": "code",
   "execution_count": 4,
   "id": "fddf2361-7139-41fc-b4f6-35436a8f1f32",
   "metadata": {},
   "outputs": [
    {
     "data": {
      "text/plain": [
       "datetime.datetime(2022, 6, 21, 22, 18, 42, 271978)"
      ]
     },
     "execution_count": 4,
     "metadata": {},
     "output_type": "execute_result"
    }
   ],
   "source": [
    "datetime.today()"
   ]
  },
  {
   "cell_type": "code",
   "execution_count": 5,
   "id": "55c001bf-7c37-4791-86f3-513c3cc2d0a4",
   "metadata": {},
   "outputs": [
    {
     "data": {
      "text/plain": [
       "51"
      ]
     },
     "execution_count": 5,
     "metadata": {},
     "output_type": "execute_result"
    }
   ],
   "source": [
    "base_time = datetime(year=2022, month=5, day=1)\n",
    "time_delt = date - base_time\n",
    "time_delt.days"
   ]
  },
  {
   "cell_type": "code",
   "execution_count": 15,
   "id": "6b967bd2-146e-4323-86b5-6c011a4105cf",
   "metadata": {},
   "outputs": [
    {
     "data": {
      "text/plain": [
       "51.9294312762963"
      ]
     },
     "execution_count": 15,
     "metadata": {},
     "output_type": "execute_result"
    }
   ],
   "source": [
    "time_delt.total_seconds()/3600/24"
   ]
  },
  {
   "cell_type": "code",
   "execution_count": 11,
   "id": "8dcbe472-d96f-4cb1-922d-0ce5e057983c",
   "metadata": {},
   "outputs": [
    {
     "data": {
      "text/plain": [
       "22.30611111111111"
      ]
     },
     "execution_count": 11,
     "metadata": {},
     "output_type": "execute_result"
    }
   ],
   "source": [
    "80302/3600"
   ]
  },
  {
   "cell_type": "code",
   "execution_count": 16,
   "id": "e169c1bb-a818-44b4-bf82-75f91ef52bdd",
   "metadata": {},
   "outputs": [],
   "source": [
    "def encode_time(date:datetime, flag=\"day\"):\n",
    "    if flag = \"day\":\n",
    "        key = 1\n",
    "    elif flag = \"week\":\n",
    "        key = 7\n",
    "    base_time = datetime(year=2022, month=5, day=1)\n",
    "    time_delt = date - base_time\n",
    "    return time_delt.days//key"
   ]
  },
  {
   "cell_type": "code",
   "execution_count": 21,
   "id": "aa19fc49-9d90-4c30-9f65-c8b0d454fa31",
   "metadata": {},
   "outputs": [
    {
     "data": {
      "text/plain": [
       "4"
      ]
     },
     "execution_count": 21,
     "metadata": {},
     "output_type": "execute_result"
    }
   ],
   "source": [
    "encode_time(datetime(year=2022, month=6, day=1),flag=7)"
   ]
  },
  {
   "cell_type": "code",
   "execution_count": 25,
   "id": "e89a407e-9534-4fc0-b5d2-62824f831917",
   "metadata": {},
   "outputs": [
    {
     "data": {
      "text/plain": [
       "datetime.datetime(2022, 5, 6, 0, 0)"
      ]
     },
     "execution_count": 25,
     "metadata": {},
     "output_type": "execute_result"
    }
   ],
   "source": [
    "def decode_time(key, flag=1):\n",
    "    base_time = datetime(year=2022, month=5, day=1)\n",
    "    start_date = base_time + timedelta(days=key*flag)\n",
    "    return date\n",
    "decode_time(5)"
   ]
  },
  {
   "cell_type": "code",
   "execution_count": null,
   "id": "9c0775c6-4bda-4e6b-8f3a-c42e42d8c4c8",
   "metadata": {},
   "outputs": [],
   "source": []
  }
 ],
 "metadata": {
  "kernelspec": {
   "display_name": "Python 3 (ipykernel)",
   "language": "python",
   "name": "python3"
  },
  "language_info": {
   "codemirror_mode": {
    "name": "ipython",
    "version": 3
   },
   "file_extension": ".py",
   "mimetype": "text/x-python",
   "name": "python",
   "nbconvert_exporter": "python",
   "pygments_lexer": "ipython3",
   "version": "3.9.7"
  }
 },
 "nbformat": 4,
 "nbformat_minor": 5
}
