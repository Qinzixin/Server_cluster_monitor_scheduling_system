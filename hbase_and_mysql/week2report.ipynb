{
 "cells": [
  {
   "cell_type": "code",
   "execution_count": 1,
   "metadata": {},
   "outputs": [],
   "source": [
    "import happybase\n",
    "import pandas as pd\n",
    "import pymysql\n",
    "from pymysql import MySQLError\n",
    "from datetime import datetime\n",
    "import time\n",
    "import numpy as np\n",
    "import sys\n",
    "sys.path.append(\"..\")\n",
    "from main import DateEncoder\n",
    "from database.redis import *\n",
    "from database.crud import *\n",
    "from database.models import *"
   ]
  },
  {
   "cell_type": "code",
   "execution_count": 2,
   "metadata": {},
   "outputs": [],
   "source": [
    "session = DBSession()\n",
    "hour_crud = HourInfoCrud(session)\n",
    "day_crud = DayInfoCrud(session)\n",
    "week_crud = WeekInfoCrud(session)\n",
    "month_crud = MonthInfoCrud(session)\n",
    "year_crud = YearInfoCrud(session)\n",
    "re_week_crud = ReportWeekCrud(session)\n",
    "re_month_crud = ReportMonthCrud(session)\n",
    "re_year_crud = ReportYearCrud(session)"
   ]
  },
  {
   "cell_type": "code",
   "execution_count": 4,
   "metadata": {},
   "outputs": [],
   "source": [
    "for cur_re_week_info in re_week_crud.find():\n",
    "    cur_re_week_id = cur_re_week_info.pk\n",
    "    weeks = week_crud.find(report_id = cur_re_week_id)\n",
    "\n",
    "    # 先判断谁最忙\n",
    "    weeks.sort(key=lambda x: x.idle_rate, reverse=True)\n",
    "    busy_server1 = weeks[0].server\n",
    "    busy_server2 = weeks[1].server\n",
    "    busy_server3 = weeks[2].server\n",
    "    # 再判断谁最闲\n",
    "    weeks.sort(key=lambda x: x.idle_rate, reverse=False)\n",
    "    idle_server1 = weeks[0].server\n",
    "    idle_server2 = weeks[1].server\n",
    "    idle_server3 = weeks[2].server\n",
    "    re_week_crud.update(usd_set = {\"busy_server1\" : busy_server1,\n",
    "                                    \"busy_server2\" : busy_server2,\n",
    "                                    \"busy_server3\" : busy_server3,\n",
    "                                    \"idle_server1\" : idle_server1,\n",
    "                                    \"idle_server2\" : idle_server2,\n",
    "                                    \"idle_server3\" : idle_server3})\n"
   ]
  }
 ],
 "metadata": {
  "interpreter": {
   "hash": "57c977f8bef7c3f203500a99050492fd89047e269bfe784373fc55e658b4e317"
  },
  "kernelspec": {
   "display_name": "Python 3.7.9 64-bit ('bigdata': conda)",
   "language": "python",
   "name": "python3"
  },
  "language_info": {
   "codemirror_mode": {
    "name": "ipython",
    "version": 3
   },
   "file_extension": ".py",
   "mimetype": "text/x-python",
   "name": "python",
   "nbconvert_exporter": "python",
   "pygments_lexer": "ipython3",
   "version": "3.7.9"
  },
  "orig_nbformat": 4
 },
 "nbformat": 4,
 "nbformat_minor": 2
}
