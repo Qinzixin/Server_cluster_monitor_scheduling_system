{
 "cells": [
  {
   "cell_type": "code",
   "execution_count": 2,
   "metadata": {},
   "outputs": [],
   "source": [
    "import happybase\n",
    "import pandas as pd\n",
    "import pymysql\n",
    "from pymysql import MySQLError\n",
    "from datetime import datetime\n",
    "import time\n",
    "import numpy as np\n",
    "import sys\n",
    "sys.path.append(\"..\")\n",
    "from main import DateEncoder\n",
    "from database.redis import *\n",
    "from database.crud import *\n",
    "from database.models import *"
   ]
  },
  {
   "cell_type": "code",
   "execution_count": 3,
   "metadata": {},
   "outputs": [],
   "source": [
    "session = DBSession()\n",
    "hour_crud = HourInfoCrud(session)\n",
    "day_crud = DayInfoCrud(session)\n",
    "week_crud = WeekInfoCrud(session)\n",
    "month_crud = MonthInfoCrud(session)\n",
    "year_crud = YearInfoCrud(session)\n",
    "re_week_crud = ReportWeekCrud(session)\n",
    "re_month_crud = ReportMonthCrud(session)\n",
    "re_year_crud = ReportYearCrud(session)"
   ]
  },
  {
   "cell_type": "code",
   "execution_count": 6,
   "metadata": {},
   "outputs": [],
   "source": [
    "for cur_week_info in week_crud.find():\n",
    "    cur_week_id = cur_week_info.pk\n",
    "    days = day_crud.find(reporty_id = cur_week_id)\n",
    "\n",
    "    week_crud.update(usd_set = {\"pk\" : cur_week_id,\n",
    "                                    \"hdd_used_avg\" : int(np.mean([_.hdd_used_avg for _ in days ])),\n",
    "                                    \"network_up_total\" : int(np.sum([_.network_up_total for _ in days ])),\n",
    "                                    \"network_down_total\" : int(np.sum([_.network_down_total for _ in days ])),\n",
    "                                    \"memory_avg\" : int(np.mean([_.memory_avg for _ in days ])),\n",
    "                                    \"gpu_memory_avg\" : np.mean([_.gpu_memory_avg for _ in days ]),\n",
    "                                    \"idle_rate\" : np.mean([_.idle_rate for _ in days ])})\n"
   ]
  }
 ],
 "metadata": {
  "interpreter": {
   "hash": "57c977f8bef7c3f203500a99050492fd89047e269bfe784373fc55e658b4e317"
  },
  "kernelspec": {
   "display_name": "Python 3.7.9 64-bit ('bigdata': conda)",
   "language": "python",
   "name": "python3"
  },
  "language_info": {
   "codemirror_mode": {
    "name": "ipython",
    "version": 3
   },
   "file_extension": ".py",
   "mimetype": "text/x-python",
   "name": "python",
   "nbconvert_exporter": "python",
   "pygments_lexer": "ipython3",
   "version": "3.7.9"
  },
  "orig_nbformat": 4
 },
 "nbformat": 4,
 "nbformat_minor": 2
}
